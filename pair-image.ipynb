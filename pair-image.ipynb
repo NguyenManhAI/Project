{
 "cells": [
  {
   "cell_type": "code",
   "execution_count": 1,
   "metadata": {},
   "outputs": [],
   "source": [
    "from utils import *\n",
    "import matplotlib.pyplot as plt\n",
    "\n",
    "# Step 1: Take any pair of images of an object\n",
    "obj = 'Arc_de_Triomphe_du_Carrousel_by_angle'\n",
    "path_to_pair_metadata_train = 'data/pairs_metadata/doppelgangers/pairs_metadata/train_pairs_noflip.npy'\n",
    "\n",
    "# pair = get_pairs_train(path_to_pair_metadata_train, obj)[0]\n",
    "\n",
    "# # Step 2: Get the keypoints location of the pair\n",
    "# parent_path_keypoints_location = 'data/matches_train_noflip/doppelgangers/loftr_matches/train_set_noflip/'\n",
    "# keypoints_location = get_keypoints_location_pair(parent_path_keypoints_location, pair[1])\n",
    "\n",
    "# # Step 3: take each image of the pair\n",
    "# root_path_images = 'data/train_set_noflip/doppelgangers/images/train_set_noflip/'\n",
    "# image1, image2 = get_images(pair[0][:2], root_path_images)\n",
    "\n",
    "# # Step 4: resize and padding to 1024x1024 and crop according to keypoints\n",
    "# image1_process = resize_and_pad_bottom_right(image1)\n",
    "# image2_process = resize_and_pad_bottom_right(image2)\n",
    "\n",
    "# crop1, crop2 = crop_matched_regions(image1_process, image2_process, **keypoints_location, threshold=0.6)\n",
    "\n",
    "# image1_with_keypoints = write_keypoints_to_image(image1_process, keypoints_location['kpt0'])\n",
    "# image2_with_keypoints = write_keypoints_to_image(image2_process, keypoints_location['kpt1'])\n",
    "\n",
    "# # List of images and titles\n",
    "# images = [\n",
    "#     (image1, \"Image 1\"),\n",
    "#     (image2, \"Image 2\"),\n",
    "#     (crop1, \"Cropped Region in Image 1\"),\n",
    "#     (crop2, \"Cropped Region in Image 2\"),\n",
    "#     (image1_with_keypoints, \"Image 1 with keypoints\"),\n",
    "#     (image2_with_keypoints, \"Image 2 with keypoints\"),\n",
    "# ]\n",
    "\n",
    "# # show images\n",
    "# plt.figure(figsize=(10, 15))\n",
    "# for i, (img, title) in enumerate(images, 1):\n",
    "#     plt.subplot(3, 2, i)\n",
    "#     plt.imshow(img)\n",
    "#     plt.axis('off')\n",
    "#     plt.title(title)\n",
    "\n",
    "# plt.tight_layout()\n",
    "# plt.show()\n"
   ]
  },
  {
   "cell_type": "code",
   "execution_count": null,
   "metadata": {},
   "outputs": [
    {
     "name": "stderr",
     "output_type": "stream",
     "text": [
      "100%|██████████| 2426/2426 [02:10<00:00, 18.57it/s]\n"
     ]
    }
   ],
   "source": [
    "pairs = get_pairs_train(path_to_pair_metadata_train, obj)\n",
    "\n",
    "import os\n",
    "from PIL import Image\n",
    "from tqdm import tqdm\n",
    "new_pairs = []\n",
    "\n",
    "for pair in tqdm(pairs):\n",
    "    # Step 2: Get the keypoints location of the pair\n",
    "    try:\n",
    "        # print(pair[1])\n",
    "        # dùng để kết hợp với các file như 0.npy để lấy ra thông tin\n",
    "        parent_path_keypoints_location = 'data/matches_train_noflip/doppelgangers/loftr_matches/train_set_noflip/'\n",
    "        keypoints_location = get_keypoints_location_pair(parent_path_keypoints_location, pair[1])\n",
    "\n",
    "        # Step 3: take each image of the pair\n",
    "        # đường dẫn đến thư mục chứa từng vật thể (như khải hoàn môn, ...)\n",
    "        root_path_images = 'data/train_set_noflip/doppelgangers/images/train_set_noflip/'\n",
    "        image1, image2 = get_images(pair[0][:2], root_path_images)\n",
    "\n",
    "        # Step 4: resize and padding to 1024x1024 and crop according to keypoints\n",
    "        image1_process = resize_and_pad_bottom_right(image1)\n",
    "        image2_process = resize_and_pad_bottom_right(image2)\n",
    "\n",
    "        crop1, crop2 = crop_matched_regions(image1_process, image2_process, **keypoints_location, threshold=0.6)\n",
    "\n",
    "        crop1_resize = cv2.resize(crop1, (224, 224))\n",
    "        crop2_resize = cv2.resize(crop2, (224, 224))\n",
    "\n",
    "        root1 = 'cropped_train/' + '/'.join(pair[0][0].split('/')[:2]) + '/'\n",
    "        root2 = 'cropped_train/' + '/'.join(pair[0][1].split('/')[:2]) + '/'\n",
    "\n",
    "        name_img1 = pair[0][0].split('/')[-1]\n",
    "        name_img2 = pair[0][1].split('/')[-1]\n",
    "\n",
    "        new_pair = []\n",
    "\n",
    "        for root, name_img, img_array in zip([root1, root2], [name_img1, name_img2], [crop1, crop2]):\n",
    "            if not os.path.exists(root):\n",
    "                os.makedirs(root)\n",
    "            \n",
    "            img = Image.fromarray(img_array)\n",
    "            img = img.convert('RGB')\n",
    "            img.save(root + name_img)\n",
    "\n",
    "            new_pair.append(root + name_img)\n",
    "\n",
    "        new_pair.append(pair[0][2])\n",
    "\n",
    "        new_pairs.append(new_pair)\n",
    "\n",
    "    except:\n",
    "        continue\n",
    "        \n",
    "new_pairs = np.array(new_pairs)\n",
    "np.save('new_metadata/train_metadata.npy', new_pairs)\n",
    "    "
   ]
  },
  {
   "cell_type": "code",
   "execution_count": 12,
   "metadata": {},
   "outputs": [
    {
     "name": "stderr",
     "output_type": "stream",
     "text": [
      "100%|██████████| 400/400 [00:03<00:00, 114.74it/s]"
     ]
    },
    {
     "name": "stdout",
     "output_type": "stream",
     "text": [
      "[['without_quote\\\\cropped_test/Arc_de_Triomphe_de_l%27%C3%89toile_by_angle/back_left/Back left view of the Arc de Triomphe, Paris 21 August 2013.jpg'\n",
      "  'without_quote\\\\cropped_test/Arc_de_Triomphe_de_l%27%C3%89toile_by_angle/front_right/Arc de Triomphe, Paris 5-2013.jpeg'\n",
      "  '0']\n",
      " ['without_quote\\\\cropped_test/Arc_de_Triomphe_de_l%27%C3%89toile_by_angle/back_right/Arc de Triomphe de lÉtoile, Paris October 2014.jpg'\n",
      "  'without_quote\\\\cropped_test/Arc_de_Triomphe_de_l%27%C3%89toile_by_angle/front_left/Arc de Triomphe in 2013.03.jpg'\n",
      "  '0']\n",
      " ['without_quote\\\\cropped_test/Arc_de_Triomphe_de_l%27%C3%89toile_by_angle/back/Arc de Triomphe 4, Paris December 2012.jpg'\n",
      "  'without_quote\\\\cropped_test/Arc_de_Triomphe_de_l%27%C3%89toile_by_angle/front/Arc de Triomphe de lÉtoile - scan01.jpg'\n",
      "  '0']\n",
      " ...\n",
      " ['without_quote\\\\cropped_test/Arc_de_Triomphe_de_l%27%C3%89toile_by_angle/front_left/ArcDeTriomphe.jpg'\n",
      "  'without_quote\\\\cropped_test/Arc_de_Triomphe_de_l%27%C3%89toile_by_angle/front_left/Arc de Triomphe - panoramio (15).jpg'\n",
      "  '1']\n",
      " ['without_quote\\\\cropped_test/Arc_de_Triomphe_de_l%27%C3%89toile_by_angle/back_left/Arc de triomphe (Paris) (1).jpg'\n",
      "  'without_quote\\\\cropped_test/Arc_de_Triomphe_de_l%27%C3%89toile_by_angle/back_left/COVID-19 Paris confinement, Place Charles de Gaulle, 4 avril 2020 001.jpg'\n",
      "  '1']\n",
      " ['without_quote\\\\cropped_test/Arc_de_Triomphe_de_l%27%C3%89toile_by_angle/front/Arc de Triomphe from the Champs-Élysées, Paris 16 August 2011 - panoramio.jpg'\n",
      "  'without_quote\\\\cropped_test/Arc_de_Triomphe_de_l%27%C3%89toile_by_angle/front/Avenue des Champs Élysées (124).jpg'\n",
      "  '1']]\n"
     ]
    },
    {
     "name": "stderr",
     "output_type": "stream",
     "text": [
      "\n"
     ]
    }
   ],
   "source": [
    "# Lặp qua từng cặp trong pairs\n",
    "from tqdm import tqdm\n",
    "for pair in tqdm(pairs):\n",
    "    for i, path in enumerate(pair[:2]):  # Duyệt qua hai phần tử đầu tiên trong mỗi cặp\n",
    "        image = Image.open(path)\n",
    "\n",
    "        cleaned_path = path.replace(\"'\", \"\")  # Loại bỏ dấu '\n",
    "        cleaned_path = os.path.join('without_quote', cleaned_path)\n",
    "        # Đổi tên file\n",
    "        # os.rename(path, cleaned_path)\n",
    "\n",
    "        # Lấy đường dẫn thư mục từ cleaned_path\n",
    "        dir_name = os.path.dirname(cleaned_path)\n",
    "\n",
    "        # Kiểm tra nếu thư mục không tồn tại thì tạo thư mục\n",
    "        if not os.path.exists(dir_name):\n",
    "            os.makedirs(dir_name)\n",
    "\n",
    "        image.save(cleaned_path)\n",
    "        \n",
    "        # Cập nhật lại path trong pair sau khi đổi tên\n",
    "        pair[i] = cleaned_path\n",
    "\n",
    "# In ra các cặp đã được thay đổi\n",
    "print(pairs)"
   ]
  },
  {
   "cell_type": "code",
   "execution_count": 13,
   "metadata": {},
   "outputs": [],
   "source": [
    "np.save('without_quote/new_metadata/test_metadata.npy', pairs)"
   ]
  }
 ],
 "metadata": {
  "kernelspec": {
   "display_name": "dinov2",
   "language": "python",
   "name": "python3"
  },
  "language_info": {
   "codemirror_mode": {
    "name": "ipython",
    "version": 3
   },
   "file_extension": ".py",
   "mimetype": "text/x-python",
   "name": "python",
   "nbconvert_exporter": "python",
   "pygments_lexer": "ipython3",
   "version": "3.10.15"
  }
 },
 "nbformat": 4,
 "nbformat_minor": 2
}
